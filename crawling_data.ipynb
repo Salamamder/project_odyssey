{
 "cells": [
  {
   "cell_type": "code",
   "execution_count": 4,
   "id": "f1080541-9b2b-4a18-bd54-99ff14fd10dd",
   "metadata": {
    "tags": []
   },
   "outputs": [],
   "source": [
    "# pip install selenium"
   ]
  },
  {
   "cell_type": "code",
   "execution_count": 17,
   "id": "3eb38374-87cb-4935-9514-16474219ade1",
   "metadata": {
    "tags": []
   },
   "outputs": [],
   "source": [
    "import pandas as pd\n",
    "import numpy as np\n",
    "from bs4 import BeautifulSoup\n",
    "from selenium import webdriver\n",
    "from selenium.webdriver.common.by import By\n",
    "from selenium.webdriver.chrome.service import Service\n",
    "from selenium.webdriver.common.keys import Keys\n",
    "from selenium.webdriver.support.ui import Select\n",
    "# 페이지 로딩 기다릴 모듈\n",
    "import time"
   ]
  },
  {
   "cell_type": "code",
   "execution_count": 19,
   "id": "e5d15d6f-cadc-4619-ac8a-d24483d9e74f",
   "metadata": {
    "tags": []
   },
   "outputs": [],
   "source": [
    "# 크롬드라이버 실행\n",
    "driver = webdriver.Chrome()"
   ]
  },
  {
   "cell_type": "code",
   "execution_count": 23,
   "id": "250584cd-af17-49ce-9808-c3e993076e33",
   "metadata": {
    "tags": []
   },
   "outputs": [
    {
     "name": "stdout",
     "output_type": "stream",
     "text": [
      "오류 발생: Alert Text: 기간 검색은 최대 1년을 초과할 수 없습니다.\n",
      "Message: unexpected alert open: {Alert text : 기간 검색은 최대 1년을 초과할 수 없습니다.}\n",
      "  (Session info: chrome=131.0.6778.205)\n",
      "Stacktrace:\n",
      "\tGetHandleVerifier [0x00007FF71A7EFB05+28789]\n",
      "\t(No symbol) [0x00007FF71A7586E0]\n",
      "\t(No symbol) [0x00007FF71A5F592A]\n",
      "\t(No symbol) [0x00007FF71A6901F4]\n",
      "\t(No symbol) [0x00007FF71A66F1E3]\n",
      "\t(No symbol) [0x00007FF71A63A938]\n",
      "\t(No symbol) [0x00007FF71A63BAA1]\n",
      "\tGetHandleVerifier [0x00007FF71AB2933D+3410093]\n",
      "\tGetHandleVerifier [0x00007FF71AB3E7DD+3497293]\n",
      "\tGetHandleVerifier [0x00007FF71AB32A73+3448803]\n",
      "\tGetHandleVerifier [0x00007FF71A8B7BBB+848171]\n",
      "\t(No symbol) [0x00007FF71A763C3F]\n",
      "\t(No symbol) [0x00007FF71A75F6E4]\n",
      "\t(No symbol) [0x00007FF71A75F87D]\n",
      "\t(No symbol) [0x00007FF71A74ED49]\n",
      "\tBaseThreadInitThunk [0x00007FFAE958259D+29]\n",
      "\tRtlUserThreadStart [0x00007FFAEAA6AF38+40]\n",
      "\n"
     ]
    }
   ],
   "source": [
    "# 정보를 얻을 url\n",
    "url = 'https://land.seoul.go.kr/land/rtms/rtmsApartment.do'\n",
    "# 페이지 접속\n",
    "driver.get(url)\n",
    "# 페이지가 로딩되는 시간 대기 (3초)\n",
    "time.sleep(3)\n",
    "# 드롭다운 요소 찾기\n",
    "select_element = driver.find_element(By.ID, \"selectGubun\")  # <select> 태그의 id 값\n",
    "\n",
    "# Select 객체 생성\n",
    "dropdown = Select(select_element)\n",
    "\n",
    "# 옵션 선택: 예를 들어, '분기' 선택\n",
    "# dropdown.select_by_value(\"1\")  # value 속성 값으로 선택 ('1' = 분기)\n",
    "\n",
    "# 또는 '기간' 선택\n",
    "dropdown.select_by_visible_text(\"기간\")  # 화면에 보이는 텍스트로 선택\n",
    "\n",
    "# 추가 작업 수행\n",
    "time.sleep(3)\n",
    "\n",
    "# 1. 입력 필드 찾기\n",
    "start_date_field = driver.find_element(By.ID, \"changeBgnde\")\n",
    "\n",
    "# 2. 기존 값 초기화\n",
    "start_date_field.clear()\n",
    "\n",
    "try:\n",
    "    # 3. 새로운 날짜 입력\n",
    "    start_date_field.send_keys(\"2025-01-01\")  # 잘못된 날짜로 인해 경고 발생 가능\n",
    "    start_date_field.send_keys(Keys.RETURN)  # 날짜 입력 확정\n",
    "\n",
    "    # 4. 경고창이 나타나면 닫기\n",
    "    time.sleep(1)  # 잠시 대기 (경고창이 나타나는 시간을 고려)\n",
    "    alert = Alert(driver)  # Selenium Alert 객체 생성\n",
    "    print(f\"경고창 텍스트: {alert.text}\")  # 경고창 내용 출력\n",
    "    alert.accept()  # 경고창 닫기\n",
    "\n",
    "    # 5. 올바른 날짜로 다시 입력\n",
    "    start_date_field.clear()\n",
    "    start_date_field.send_keys(\"2024-12-31\")  # 1년 이내의 날짜로 설정\n",
    "    start_date_field.send_keys(Keys.RETURN)\n",
    "\n",
    "except Exception as e:\n",
    "    print(f\"오류 발생: {e}\")"
   ]
  },
  {
   "cell_type": "code",
   "execution_count": null,
   "id": "a97a8842-00b9-4494-91db-e1f735f5850c",
   "metadata": {},
   "outputs": [],
   "source": []
  }
 ],
 "metadata": {
  "kernelspec": {
   "display_name": "Python 3 (ipykernel)",
   "language": "python",
   "name": "python3"
  },
  "language_info": {
   "codemirror_mode": {
    "name": "ipython",
    "version": 3
   },
   "file_extension": ".py",
   "mimetype": "text/x-python",
   "name": "python",
   "nbconvert_exporter": "python",
   "pygments_lexer": "ipython3",
   "version": "3.11.5"
  }
 },
 "nbformat": 4,
 "nbformat_minor": 5
}
